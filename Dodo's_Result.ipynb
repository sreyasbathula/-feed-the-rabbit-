{
  "nbformat": 4,
  "nbformat_minor": 0,
  "metadata": {
    "colab": {
      "provenance": [],
      "collapsed_sections": [],
      "authorship_tag": "ABX9TyPcxq4oFv/btpKw0XLegnSg",
      "include_colab_link": true
    },
    "kernelspec": {
      "name": "python3",
      "display_name": "Python 3"
    },
    "language_info": {
      "name": "python"
    }
  },
  "cells": [
    {
      "cell_type": "markdown",
      "metadata": {
        "id": "view-in-github",
        "colab_type": "text"
      },
      "source": [
        "<a href=\"https://colab.research.google.com/github/sreyasbathula/-feed-the-rabbit-/blob/main/Dodo's_Result.ipynb\" target=\"_parent\"><img src=\"https://colab.research.google.com/assets/colab-badge.svg\" alt=\"Open In Colab\"/></a>"
      ]
    },
    {
      "cell_type": "code",
      "execution_count": 16,
      "metadata": {
        "colab": {
          "base_uri": "https://localhost:8080/"
        },
        "id": "IWO4zoSkHb-I",
        "outputId": "054a30dc-fa71-4133-ee55-6e55bc883a56"
      },
      "outputs": [
        {
          "output_type": "execute_result",
          "data": {
            "text/plain": [
              "['Maths', 'English', 'History', 'Art']"
            ]
          },
          "metadata": {},
          "execution_count": 16
        }
      ],
      "source": [
        "array=['Maths',90,'English',80,'History',75,'Art',85]\n",
        "\n",
        "list(array)\n",
        "\n",
        "len(array)\n",
        "\n",
        "\n",
        "array[1:8:2]\n",
        "\n",
        "array[0:8:2]\n"
      ]
    }
  ]
}